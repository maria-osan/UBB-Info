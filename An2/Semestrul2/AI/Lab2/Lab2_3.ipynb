{
 "cells": [
  {
   "cell_type": "code",
   "execution_count": 23,
   "id": "180bfac2",
   "metadata": {},
   "outputs": [],
   "source": [
    "import os\n",
    "import re\n",
    "import nltk\n",
    "from unidecode import unidecode\n",
    "from nltk.corpus import wordnet"
   ]
  },
  {
   "cell_type": "code",
   "execution_count": 2,
   "id": "b0dd3490",
   "metadata": {},
   "outputs": [],
   "source": [
    "# Funcție pentru citirea textului din fișier\n",
    "def read_text(file_path):\n",
    "    with open(file_path, 'r', encoding='utf-8') as file:\n",
    "        return file.read()\n",
    "    \n",
    "crtDir =  os.getcwd()\n",
    "filePath = os.path.join(crtDir, 'data', 'texts.txt')\n",
    "\n",
    "allData = read_text(filePath)"
   ]
  },
  {
   "cell_type": "code",
   "execution_count": 3,
   "id": "7d8b7643",
   "metadata": {},
   "outputs": [
    {
     "name": "stdout",
     "output_type": "stream",
     "text": [
      "Numarul propozitiilor din text este:  10\n"
     ]
    }
   ],
   "source": [
    "# numarul de propozitii din text\n",
    "\n",
    "sentences = re.split(r'[.!?]', allData)\n",
    "print(\"Numarul propozitiilor din text este: \", len(sentences))"
   ]
  },
  {
   "cell_type": "code",
   "execution_count": 4,
   "id": "77df80b6",
   "metadata": {},
   "outputs": [
    {
     "name": "stdout",
     "output_type": "stream",
     "text": [
      "Numarul cuvintelor din text este:  156\n"
     ]
    }
   ],
   "source": [
    "# numarul de cuvinte din text\n",
    "\n",
    "words = re.findall(r'\\w+', allData)\n",
    "print(\"Numarul cuvintelor din text este: \", len(words))"
   ]
  },
  {
   "cell_type": "code",
   "execution_count": 5,
   "id": "cae6169b",
   "metadata": {},
   "outputs": [
    {
     "name": "stdout",
     "output_type": "stream",
     "text": [
      "Numarul cuvintelor diferite din text este:  94\n"
     ]
    }
   ],
   "source": [
    "# numarul de cuvinte diferite din text\n",
    "\n",
    "print(\"Numarul cuvintelor diferite din text este: \", len(set(words)))"
   ]
  },
  {
   "cell_type": "code",
   "execution_count": 6,
   "id": "9d579230",
   "metadata": {},
   "outputs": [
    {
     "name": "stdout",
     "output_type": "stream",
     "text": [
      "Cel mai scurt cuvant din text este:  o\n",
      "Cel mai lung cuvant din text este:  laboratoarele\n"
     ]
    }
   ],
   "source": [
    "# cel mai scurt si cel mai lung cuvant (cuvinte)\n",
    "\n",
    "min_word = min(words, key=len)\n",
    "max_word = max(words, key=len)\n",
    "print(\"Cel mai scurt cuvant din text este: \", min_word)\n",
    "print(\"Cel mai lung cuvant din text este: \", max_word)"
   ]
  },
  {
   "cell_type": "code",
   "execution_count": 7,
   "id": "2e6d30bb",
   "metadata": {},
   "outputs": [
    {
     "name": "stdout",
     "output_type": "stream",
     "text": [
      "Textul fara diacritice:\n",
      "Mesaj de informare: \n",
      "Cursul si laboratoarele de Inteligenta Artificiala vor fi o \n",
      "provocare pentru toti. Suntem convinsi ca veti realiza proiecte \n",
      "foarte interesante. Va incurajam sa adresati intrebari atunci \n",
      "cand ceva nu e clar, atat in mod live, cat si folosind platforma \n",
      "Teams, canalul \"general\". \n",
      "Daca ati citit pana aici, va rugam sa lasati un mesaj pe canalul \n",
      "general cu textul \"Am citit textul pentru problema 3\". \n",
      "Mesaj de informare generat de ChatGPT:\n",
      "Stimati cursanti,\n",
      "Suntem incantati sa va avem in echipa noastra pentru Cursul si \n",
      "laboratoarele de Inteligenta Artificiala. Aceasta experienta va \n",
      "fi o adevarata provocare, dar suntem convinsi ca veti realiza \n",
      "proiecte extrem de interesante.\n",
      "Va incurajam sa fiti activi si sa adresati intrebari atunci cand \n",
      "ceva nu este clar. Fie ca este vorba de o discutie in timp real \n",
      "sau prin intermediul platformei Teams, canalul \"general\", suntem \n",
      "aici sa va sprijinim.\n",
      "Succes si sa inceapa aventura AI!\n",
      "Cu consideratie, Echipa de Inteligenta Artificiala\n"
     ]
    }
   ],
   "source": [
    "# textul fara diacritice\n",
    "\n",
    "print(\"Textul fara diacritice:\")\n",
    "print(unidecode(allData))"
   ]
  },
  {
   "cell_type": "code",
   "execution_count": 30,
   "id": "17db5ae4",
   "metadata": {},
   "outputs": [
    {
     "data": {
      "text/plain": [
       "[]"
      ]
     },
     "execution_count": 30,
     "metadata": {},
     "output_type": "execute_result"
    }
   ],
   "source": [
    "# sinonimele celui mai lung cuvant din text\n",
    "\n",
    "sinonime = set()\n",
    "for s in wordnet.synsets(max_word, lang=\"ron\"):\n",
    "    for l in s.lemmas(\"ron\"):\n",
    "        sinonime.add(wordnet.synonyms(l, lang=\"ron\"))\n",
    "list(sinonime)"
   ]
  },
  {
   "cell_type": "code",
   "execution_count": null,
   "id": "9e3cc61f",
   "metadata": {},
   "outputs": [],
   "source": []
  }
 ],
 "metadata": {
  "kernelspec": {
   "display_name": "Python 3 (ipykernel)",
   "language": "python",
   "name": "python3"
  },
  "language_info": {
   "codemirror_mode": {
    "name": "ipython",
    "version": 3
   },
   "file_extension": ".py",
   "mimetype": "text/x-python",
   "name": "python",
   "nbconvert_exporter": "python",
   "pygments_lexer": "ipython3",
   "version": "3.11.5"
  }
 },
 "nbformat": 4,
 "nbformat_minor": 5
}
